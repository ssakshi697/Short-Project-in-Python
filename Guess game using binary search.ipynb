{
 "cells": [
  {
   "cell_type": "code",
   "execution_count": 4,
   "metadata": {},
   "outputs": [
    {
     "name": "stdout",
     "output_type": "stream",
     "text": [
      "Please think of a number between 1 and 1000\n",
      "Please enter to start\n",
      "My guess is 500.Enter h or l h\n",
      "My guess is 750.Enter h or l l\n",
      "My guess is 625.Enter h or l l\n",
      "My guess is 562.Enter h or l l\n",
      "My guess is 531.Enter h or l l\n",
      "My guess is 515.Enter h or l l\n",
      "My guess is 507.Enter h or l h\n",
      "My guess is 511.Enter h or l l\n",
      "My guess is 509.Enter h or l h\n",
      "My guess is 510.Enter h or l c\n",
      "I got it in10 guesses!\n"
     ]
    }
   ],
   "source": [
    "low=1\n",
    "high=1000\n",
    "print(\"Please think of a number between {} and {}\".format(low,high))\n",
    "input(\"Please enter to start\")\n",
    "\n",
    "guesses=1\n",
    "\n",
    "while True:\n",
    "    guess=low+(high-low)//2\n",
    "    high_low=input(\"My guess is {}.Enter h or l \".format(guess)).casefold()\n",
    "    \n",
    "    if high_low=='h':\n",
    "        low=guess+1\n",
    "        \n",
    "    elif high_low=='l':\n",
    "        high=guess-1\n",
    "        \n",
    "    elif high_low=='c':\n",
    "        print(\"I got it in{} guesses!\".format(guesses))\n",
    "        break\n",
    "        \n",
    "    else:\n",
    "        \n",
    "        print(\"Please enter h,l or c\")\n",
    "        \n",
    "    guesses=guesses+1"
   ]
  },
  {
   "cell_type": "code",
   "execution_count": null,
   "metadata": {},
   "outputs": [],
   "source": []
  }
 ],
 "metadata": {
  "kernelspec": {
   "display_name": "Python 3",
   "language": "python",
   "name": "python3"
  },
  "language_info": {
   "codemirror_mode": {
    "name": "ipython",
    "version": 3
   },
   "file_extension": ".py",
   "mimetype": "text/x-python",
   "name": "python",
   "nbconvert_exporter": "python",
   "pygments_lexer": "ipython3",
   "version": "3.8.5"
  }
 },
 "nbformat": 4,
 "nbformat_minor": 4
}
